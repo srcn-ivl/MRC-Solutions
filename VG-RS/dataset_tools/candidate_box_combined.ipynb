{
 "cells": [
  {
   "cell_type": "code",
   "execution_count": null,
   "metadata": {},
   "outputs": [],
   "source": [
    "from qwen_vl_utils import process_vision_info\n",
    "from datasets import load_dataset, concatenate_datasets\n",
    "from PIL import Image\n",
    "from tqdm import tqdm\n",
    "import numpy as np\n",
    "from datetime import datetime\n",
    "\n",
    "import json\n",
    "\n",
    "def parse_json(json_output):\n",
    "    pattern = r\"\\[([0-9\\.]+(?:, ?[0-9\\.]+)*)\\]\"\n",
    "    matches = re.findall(pattern, json_output)\n",
    "    coordinates = [\n",
    "        [float(num) if \".\" in num else int(num) for num in match.split(\",\")]\n",
    "        for match in matches\n",
    "    ]\n",
    "    return coordinates\n",
    "\n",
    "with open(\"/home/pengziyang/MultimodalReasoningCompetition/Task1/datasets/VG_RS/ovdino_label/0804_ovdino_candidate_box_iou30.jsonl\", 'r', encoding='utf-8') as f:\n",
    "    anno_ovdino = [json.loads(line) for line in f]\n",
    "    \n",
    "with open(\"/home/pengziyang/MultimodalReasoningCompetition/Task1/datasets/VG_RS/ovdino_label/0805_llmdet_candidate.jsonl\", 'r', encoding='utf-8') as f:\n",
    "    anno_llmdet = [json.loads(line) for line in f]\n",
    "    \n",
    "for llmdet, ovdino in tqdm(zip(anno_llmdet, anno_ovdino)):\n",
    "    boxes_llmdet = parse_json(llmdet['problem'])\n",
    "    boxes_ovdino = parse_json(ovdino['problem'])\n",
    "    box_all = []\n",
    "    box_all.extend(boxes_llmdet)\n",
    "    box_all.extend(boxes_ovdino)\n",
    "    ovdino['problem'] = ovdino['problem'].replace(str(boxes_ovdino), str(box_all))\n",
    "    \n",
    "    \n",
    "with open(\"/home/pengziyang/MultimodalReasoningCompetition/Task1/datasets/VG_RS/ovdino_label/0805_candidate_ovdino_llmdet.jsonl\", 'w', encoding='utf-8') as f:\n",
    "    for anno in anno_ovdino:\n",
    "        json.dump(anno, f, ensure_ascii=False)\n",
    "        f.write(\"\\n\")"
   ]
  }
 ],
 "metadata": {
  "language_info": {
   "name": "python"
  }
 },
 "nbformat": 4,
 "nbformat_minor": 2
}
