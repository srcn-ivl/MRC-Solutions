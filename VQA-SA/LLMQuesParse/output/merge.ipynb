{
 "cells": [
  {
   "cell_type": "code",
   "execution_count": 1,
   "metadata": {},
   "outputs": [],
   "source": [
    "from collections import OrderedDict\n",
    "from Portable import osp\n",
    "\n",
    "import json\n",
    "import re"
   ]
  },
  {
   "cell_type": "markdown",
   "metadata": {},
   "source": [
    "解析分片合并"
   ]
  },
  {
   "cell_type": "code",
   "execution_count": null,
   "metadata": {},
   "outputs": [],
   "source": [
    "parse_dir = r\"./parsed\"\n",
    "result_file = r\"./result/parsed.json\""
   ]
  },
  {
   "cell_type": "code",
   "execution_count": null,
   "metadata": {},
   "outputs": [],
   "source": [
    "merge_dict = OrderedDict()\n",
    "files = sorted(osp.als(parse_dir))\n",
    "for parse_file in files:\n",
    "    with open(parse_file, \"r\", encoding=\"utf8\") as reader:\n",
    "        data = json.load(reader)\n",
    "    key = osp.refmt(osp.op_base(parse_file), \".jpg\")\n",
    "    merge_dict[key] = data"
   ]
  },
  {
   "cell_type": "code",
   "execution_count": null,
   "metadata": {},
   "outputs": [],
   "source": [
    "with open(result_file, \"w\", encoding=\"utf8\") as writer:\n",
    "    json.dump(merge_dict, writer, indent=4, ensure_ascii=False)"
   ]
  },
  {
   "cell_type": "markdown",
   "metadata": {},
   "source": [
    "方位问题抽取"
   ]
  },
  {
   "cell_type": "code",
   "execution_count": 2,
   "metadata": {},
   "outputs": [
    {
     "data": {
      "text/plain": [
       "'./result/direction_sort/directions_only.json'"
      ]
     },
     "execution_count": 2,
     "metadata": {},
     "output_type": "execute_result"
    }
   ],
   "source": [
    "source = r\"./result/parsed_rect.json\"\n",
    "output = r\"./result/direction_sort/directions_only.json\"\n",
    "rests = r\"./result/direction_sort/rests.json\"\n",
    "ques_out = r\"./result/direction_sort/ques_sort.json\"\n",
    "res_ques = r\"./result/direction_sort/rest_ques.json\"\n",
    "\n",
    "osp.ensure_dirs(output, is_file=True)"
   ]
  },
  {
   "cell_type": "code",
   "execution_count": 3,
   "metadata": {},
   "outputs": [],
   "source": [
    "with open(source, \"r\", encoding=\"utf8\") as reader:\n",
    "    data = json.load(reader)\n",
    "\n",
    "contains = [r\".{1,2}方\", r\".{1,2}侧\", r\".边\", r\".面\", r\".手边\", \"左前\", \"左后\", \"右前\", \"右后\"]\n",
    "over_int = [\"前\", \"后\", \"左\", \"右\"]\n",
    "def pred_options(op:str) -> bool:\n",
    "    if not isinstance(op, str): return False\n",
    "    result = any([len(re.findall(ct, op)) > 0 for ct in contains])\n",
    "    result = result or any([oi == op for oi in over_int])\n",
    "    return result\n",
    "\n",
    "direction_dict, rests_dict = dict(), dict()\n",
    "counter = [0, 0]\n",
    "sorted_ques, rest_ques = list(), list()\n",
    "for k, v in data.items():\n",
    "    direction_flag = False\n",
    "    for e in v:\n",
    "        opt_options = e[\"question\"].split(\"？\")\n",
    "        sing_flag = len(opt_options) == 2 and \"方位\" in opt_options[1]\n",
    "        direction_flag = direction_flag or sing_flag\n",
    "        parse_options = e[\"parse\"][\"options\"]\n",
    "        sing_flag = parse_options and any([pred_options(po) for po in parse_options])\n",
    "        direction_flag = direction_flag or sing_flag\n",
    "        counter[0 if sing_flag else 1] += 1\n",
    "        if sing_flag: sorted_ques.append([k, e[\"question\"]])\n",
    "        else: rest_ques.append([k, e[\"question\"]])\n",
    "    if direction_flag: direction_dict.update({k: v})\n",
    "    else: rests_dict.update({k: v})\n",
    "\n",
    "with open(output, \"w\", encoding=\"utf8\") as out_writer,\\\n",
    "    open(rests, \"w\", encoding=\"utf8\") as res_writer,\\\n",
    "    open(ques_out, \"w\", encoding=\"utf8\") as ques_writer,\\\n",
    "    open(res_ques, \"w\", encoding=\"utf8\") as req_writer:\n",
    "    json.dump(direction_dict, out_writer, indent=4, ensure_ascii=False)\n",
    "    json.dump(rests_dict, res_writer, indent=4, ensure_ascii=False)\n",
    "    json.dump(sorted_ques, ques_writer, indent=4, ensure_ascii=False)\n",
    "    json.dump(rest_ques, req_writer, indent=4, ensure_ascii=False)"
   ]
  },
  {
   "cell_type": "code",
   "execution_count": 4,
   "metadata": {},
   "outputs": [
    {
     "name": "stdout",
     "output_type": "stream",
     "text": [
      "sorting results: \n",
      "sort<1524>\n",
      "rest<410>\n",
      "\n",
      "question layer: \n",
      "sort<3897>\n",
      "rest<2652>\n"
     ]
    }
   ],
   "source": [
    "print(f\"sorting results: \\nsort<{len(direction_dict)}>\\nrest<{len(rests_dict)}>\")\n",
    "print(f\"\\nquestion layer: \\nsort<{counter[0]}>\\nrest<{counter[1]}>\")"
   ]
  },
  {
   "cell_type": "code",
   "execution_count": null,
   "metadata": {},
   "outputs": [],
   "source": [
    "# print(f\"ques_sorted_ovl: {len(sorted_ques)} =?= {len(set(sorted_ques))}\")\n",
    "# print(f\"ques_rest_ovl:   {len(rest_ques)} =?= {len(set(rest_ques))}\")"
   ]
  }
 ],
 "metadata": {
  "kernelspec": {
   "display_name": "qwen2",
   "language": "python",
   "name": "python3"
  },
  "language_info": {
   "codemirror_mode": {
    "name": "ipython",
    "version": 3
   },
   "file_extension": ".py",
   "mimetype": "text/x-python",
   "name": "python",
   "nbconvert_exporter": "python",
   "pygments_lexer": "ipython3",
   "version": "3.11.11"
  }
 },
 "nbformat": 4,
 "nbformat_minor": 2
}
