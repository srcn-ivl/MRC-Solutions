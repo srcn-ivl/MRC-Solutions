{
 "cells": [
  {
   "cell_type": "code",
   "execution_count": 1,
   "metadata": {},
   "outputs": [],
   "source": [
    "import json"
   ]
  },
  {
   "cell_type": "code",
   "execution_count": 2,
   "metadata": {},
   "outputs": [],
   "source": [
    "dirques = r\"./result/direction_sort/ques_sort.json\"\n",
    "with open(dirques, \"r\", encoding=\"utf8\") as reader:\n",
    "    dir_seq = [tuple(e) for e in json.load(reader)]"
   ]
  },
  {
   "cell_type": "code",
   "execution_count": 3,
   "metadata": {},
   "outputs": [],
   "source": [
    "trii = r\"./merged_tri_infos_m.json\"\n",
    "trii_dict = dict()\n",
    "with open(trii, \"r\", encoding=\"utf8\") as reader:\n",
    "    data = json.load(reader)\n",
    "    for e in data: trii_dict[(e[\"image_name\"], e[\"question\"])] = e"
   ]
  },
  {
   "cell_type": "code",
   "execution_count": 4,
   "metadata": {},
   "outputs": [],
   "source": [
    "dump_contents = list()\n",
    "for ds in dir_seq: dump_contents.append(trii_dict[ds])"
   ]
  },
  {
   "cell_type": "code",
   "execution_count": 5,
   "metadata": {},
   "outputs": [
    {
     "data": {
      "application/vnd.jupyter.widget-view+json": {
       "model_id": "137b5a5e6b3a4b5ab92eaa346fc9fb1f",
       "version_major": 2,
       "version_minor": 0
      },
      "text/plain": [
       "  0%|          | 0/3897 [00:00<?, ?it/s]"
      ]
     },
     "metadata": {},
     "output_type": "display_data"
    },
    {
     "name": "stdout",
     "output_type": "stream",
     "text": [
      "263\n"
     ]
    }
   ],
   "source": [
    "# last = \"\"; jq = set(); qc = 0\n",
    "# for ds in dir_seq:\n",
    "#     if ds[0] != last: \n",
    "#         if ds[0] in jq: qc += 1\n",
    "#         else: jq.add(ds[0])\n",
    "#     last = ds[0]\n",
    "# print(qc)\n",
    "\n",
    "exc_list = [\n",
    "    \"拍摄者\",\n",
    "    \"拍摄视角\",\n",
    "    \"拍摄这张图片的人\",\n",
    "    \"拍摄这张照片的人\",\n",
    "    \"拍摄人\",\n",
    "    \"当前拍摄\",\n",
    "    \"拍照人\",\n",
    "    \"拍照的人\",\n",
    "    \"拍照者\"\n",
    "]\n",
    "def is_alter_cam(ques:str) -> bool:\n",
    "    return any([el in ques for el in exc_list])\n",
    "\n",
    "from tqdm.notebook import tqdm\n",
    "\n",
    "cc = 0\n",
    "last_ref = dict(); last_in = \"\"\n",
    "for i in tqdm(range(len(dump_contents))):\n",
    "    dc = dump_contents[i]\n",
    "    if \"reference\" in dc and dc[\"reference\"]:\n",
    "        ref = dc[\"reference\"]\n",
    "        if dc[\"image_name\"] != last_in:\n",
    "            last_ref = ref\n",
    "            last_in = dc[\"image_name\"]\n",
    "        elif ref[\"ref\"] == \"画面视角\":\n",
    "            if is_alter_cam(dc[\"question\"]): last_ref = ref\n",
    "            else: dump_contents[i][\"reference\"] = last_ref; cc += 1\n",
    "        else: last_ref = ref\n",
    "print(cc)"
   ]
  },
  {
   "cell_type": "code",
   "execution_count": 6,
   "metadata": {},
   "outputs": [],
   "source": [
    "dump_path = r\"./dir_ques_tri_infos.json\"\n",
    "with open(dump_path, \"w\", encoding=\"utf8\") as writer:\n",
    "    json.dump(dump_contents, writer, indent=4, ensure_ascii=False)"
   ]
  }
 ],
 "metadata": {
  "kernelspec": {
   "display_name": "qwen2",
   "language": "python",
   "name": "python3"
  },
  "language_info": {
   "codemirror_mode": {
    "name": "ipython",
    "version": 3
   },
   "file_extension": ".py",
   "mimetype": "text/x-python",
   "name": "python",
   "nbconvert_exporter": "python",
   "pygments_lexer": "ipython3",
   "version": "3.11.11"
  }
 },
 "nbformat": 4,
 "nbformat_minor": 2
}
