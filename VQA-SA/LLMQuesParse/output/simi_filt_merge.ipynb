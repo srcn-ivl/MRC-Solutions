{
 "cells": [
  {
   "cell_type": "code",
   "execution_count": 1,
   "metadata": {},
   "outputs": [],
   "source": [
    "from tqdm.notebook import tqdm\n",
    "from Portable import osp\n",
    "\n",
    "import spacy\n",
    "import json"
   ]
  },
  {
   "cell_type": "code",
   "execution_count": 2,
   "metadata": {},
   "outputs": [],
   "source": [
    "splits = osp.als(r\"./ques_comp_patch\")\n",
    "\n",
    "nlp = spacy.load(\"zh_core_web_md\")\n",
    "simi_thrsh = 0.97"
   ]
  },
  {
   "cell_type": "code",
   "execution_count": 3,
   "metadata": {},
   "outputs": [
    {
     "data": {
      "application/vnd.jupyter.widget-view+json": {
       "model_id": "f5abe9ae13f24262b18a1af90db03819",
       "version_major": 2,
       "version_minor": 0
      },
      "text/plain": [
       "  0%|          | 0/1135 [00:00<?, ?it/s]"
      ]
     },
     "metadata": {},
     "output_type": "display_data"
    }
   ],
   "source": [
    "merged = list()\n",
    "for split in tqdm(splits):\n",
    "    with open(split, \"r\", encoding=\"utf8\") as reader:\n",
    "        data = json.load(reader)\n",
    "    image_path = f\"images\\\\{osp.refmt(osp.op_base(split), '.jpg')}\"\n",
    "    for e in data: \n",
    "        if not isinstance(e, dict): continue\n",
    "        similarity = nlp(e[\"src\"]).similarity(nlp(e[\"rct\"]))\n",
    "        if similarity > simi_thrsh: continue\n",
    "        merged.append({\n",
    "            \"image_path\": image_path,\n",
    "            \"source_question\": e[\"src\"],\n",
    "            \"rectified_question\": e[\"rct\"],\n",
    "            \"similarity\": similarity\n",
    "        })"
   ]
  },
  {
   "cell_type": "code",
   "execution_count": 4,
   "metadata": {},
   "outputs": [],
   "source": [
    "output = r\"./VQA-SA-question-completed.json\"\n",
    "with open(output, \"w\", encoding=\"utf8\") as writer:\n",
    "    json.dump(merged, writer, indent=4, ensure_ascii=False)"
   ]
  },
  {
   "cell_type": "code",
   "execution_count": 5,
   "metadata": {},
   "outputs": [
    {
     "data": {
      "text/plain": [
       "916"
      ]
     },
     "execution_count": 5,
     "metadata": {},
     "output_type": "execute_result"
    }
   ],
   "source": [
    "len(merged)"
   ]
  }
 ],
 "metadata": {
  "kernelspec": {
   "display_name": "qwen2",
   "language": "python",
   "name": "python3"
  },
  "language_info": {
   "codemirror_mode": {
    "name": "ipython",
    "version": 3
   },
   "file_extension": ".py",
   "mimetype": "text/x-python",
   "name": "python",
   "nbconvert_exporter": "python",
   "pygments_lexer": "ipython3",
   "version": "3.11.11"
  }
 },
 "nbformat": 4,
 "nbformat_minor": 2
}
