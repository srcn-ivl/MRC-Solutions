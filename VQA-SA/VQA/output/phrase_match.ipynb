{
 "cells": [
  {
   "cell_type": "code",
   "execution_count": 13,
   "metadata": {},
   "outputs": [],
   "source": [
    "import spacy"
   ]
  },
  {
   "cell_type": "code",
   "execution_count": 25,
   "metadata": {},
   "outputs": [],
   "source": [
    "nlp = spacy.load(\"zh_core_web_md\")\n",
    "# nlp = spacy.load(\"zh_core_web_sm\")\n",
    "# nlp = spacy.load(\"zh_core_web_trf\")"
   ]
  },
  {
   "cell_type": "code",
   "execution_count": 26,
   "metadata": {},
   "outputs": [
    {
     "name": "stdout",
     "output_type": "stream",
     "text": [
      "0.4764952063560486 在等红绿灯的人中\n",
      "0.4752318561077118 等红绿灯的人中，\n",
      "0.5728200674057007 红绿灯的人中，有\n",
      "0.592461109161377 的人中，有一个\n",
      "0.620580792427063 人中，有一个人\n",
      "0.8001037836074829 ，有一个人穿\n",
      "0.854398787021637 有一个人穿红色\n",
      "0.9345291256904602 一个人穿红色衣服\n",
      "0.9560790657997131 人穿红色衣服，\n",
      "0.8549940586090088 穿红色衣服，如果\n",
      "0.7711857557296753 红色衣服，如果他\n",
      "0.6736695766448975 衣服，如果他要\n",
      "0.5739197731018066 ，如果他要去\n",
      "0.5505267977714539 如果他要去彪记\n",
      "0.588827908039093 他要去彪记，\n",
      "0.5888278484344482 要去彪记，他\n",
      "0.5358095765113831 去彪记，他该\n",
      "0.4625740051269531 彪记，他该往\n",
      "0.42622804641723633 ，他该往哪个\n",
      "0.30516791343688965 他该往哪个方向\n",
      "0.16294130682945251 该往哪个方向走\n",
      "\n",
      "0.9560790657997131 人穿红色衣服，\n"
     ]
    }
   ],
   "source": [
    "search = nlp(\"穿红色衣服的人\")\n",
    "sentence = nlp(\"在等红绿灯的人中，有一个人穿红色衣服，如果他要去彪记，他该往哪个方向走？\")\n",
    "base_thresh = 0.4\n",
    "\n",
    "highest = -99; record = \"\"\n",
    "for i in range(len(sentence) - len(search)):\n",
    "    window = nlp(\"\".join([e.text for e in sentence[i:i+len(search)]]))\n",
    "    similarity = window.similarity(search)\n",
    "    if similarity > highest: highest = similarity; record = window.text\n",
    "    print(similarity, window)\n",
    "print()\n",
    "if highest > base_thresh: print(highest, record)"
   ]
  },
  {
   "cell_type": "code",
   "execution_count": 12,
   "metadata": {},
   "outputs": [],
   "source": [
    "doc = nlp(\"在等红绿灯的人中，有一个人穿红色衣服，如果他要去彪记，他该往哪个方向走？\")\n",
    "# doc = nlp(\"昨天他该往哪个方向走？\")\n",
    "\n",
    "for ent in doc.ents:\n",
    "    print(ent, ent.label_)"
   ]
  }
 ],
 "metadata": {
  "kernelspec": {
   "display_name": "qwen2",
   "language": "python",
   "name": "python3"
  },
  "language_info": {
   "codemirror_mode": {
    "name": "ipython",
    "version": 3
   },
   "file_extension": ".py",
   "mimetype": "text/x-python",
   "name": "python",
   "nbconvert_exporter": "python",
   "pygments_lexer": "ipython3",
   "version": "3.11.11"
  }
 },
 "nbformat": 4,
 "nbformat_minor": 2
}
