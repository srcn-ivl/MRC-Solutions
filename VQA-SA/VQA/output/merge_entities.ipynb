{
 "cells": [
  {
   "cell_type": "code",
   "execution_count": 1,
   "metadata": {},
   "outputs": [],
   "source": [
    "from tqdm.notebook import tqdm\n",
    "from Portable import osp\n",
    "\n",
    "import json"
   ]
  },
  {
   "cell_type": "code",
   "execution_count": 2,
   "metadata": {},
   "outputs": [],
   "source": [
    "ref_base = r\"../../sln/VQA_SA/parsed_rect.json\"\n",
    "entities = r\"./entities\"\n",
    "output = r\"./merged_entities.json\""
   ]
  },
  {
   "cell_type": "code",
   "execution_count": 3,
   "metadata": {},
   "outputs": [],
   "source": [
    "with open(ref_base, \"r\", encoding=\"utf8\") as reader_ref:\n",
    "    data:dict = json.load(reader_ref)"
   ]
  },
  {
   "cell_type": "code",
   "execution_count": 4,
   "metadata": {},
   "outputs": [],
   "source": [
    "merge_list = list()\n",
    "for k, v in data.items():\n",
    "    json_path = osp.j(entities, osp.refmt(k, \".json\"))\n",
    "    with open(json_path, \"r\", encoding=\"utf8\") as reader:\n",
    "        rec_data = json.load(reader)\n",
    "    for i, ques in enumerate(v):\n",
    "        question = ques[\"question\"]\n",
    "        recs = rec_data[i]\n",
    "        merge_list.append({\n",
    "            \"image_name\": k,\n",
    "            \"question\": question,\n",
    "            \"objects\": recs\n",
    "        })"
   ]
  },
  {
   "cell_type": "markdown",
   "metadata": {},
   "source": [
    "筛除 LLM 提取异常 如 “拍摄者” “图中场景” “你” “我” “他”"
   ]
  },
  {
   "cell_type": "code",
   "execution_count": 5,
   "metadata": {},
   "outputs": [
    {
     "data": {
      "application/vnd.jupyter.widget-view+json": {
       "model_id": "1736c55752524e209bfb5c66ea06baba",
       "version_major": 2,
       "version_minor": 0
      },
      "text/plain": [
       "  0%|          | 0/6549 [00:00<?, ?it/s]"
      ]
     },
     "metadata": {},
     "output_type": "display_data"
    },
    {
     "name": "stdout",
     "output_type": "stream",
     "text": [
      "12412 - 789 = 11623\n"
     ]
    }
   ],
   "source": [
    "excepts = [\"图中的场景\", \"图中场景\", \"该图片的\", \"图片中场景\", \"图片中的场景\", \"当前图片\", \"图片场景\"]\n",
    "excepts2 = [\n",
    "    \"你\", \"我\", \"他\", \"它\", \"她\", \"图片内容\", \"图片中的其他区域\", \"图片左侧\", \"图片右侧\", \"图片中央\", \n",
    "    \"拍摄这张图片的人\", \"拍摄这张照片的人\", \"拍摄人所在的位置\", \"拍摄位置\", \"当前拍摄点\", \"拍照人\",\n",
    "    \"拍照的人\", \"拍照者\", \"正在拍照的人\", \"拍摄时间\", \"城市\", \"背景\", \"所有人\", \"打的\"    \n",
    "]\n",
    "excepts3 = [r\"拍摄者$\", r\"拍摄视角$\", r\"拍摄人$\", r\"拍摄的人$\"]\n",
    "counter = 0; c_counter = 0\n",
    "\n",
    "import re\n",
    "rest_list = list()\n",
    "for i, e in enumerate(tqdm(merge_list)):\n",
    "    objects = e[\"objects\"]\n",
    "    rms = list()\n",
    "    for k in list(objects.keys()):\n",
    "        cond = any([e in k for e in excepts])\n",
    "        cond = cond or any([e == k for e in excepts2])\n",
    "        cond = cond or any([len(re.findall(e, k)) > 0 for e in excepts3])\n",
    "        c_counter += 1\n",
    "        if not cond: rest_list.append(k); continue \n",
    "        counter += 1\n",
    "        rms.append(k)\n",
    "    for k in rms: del objects[k]\n",
    "    merge_list[i][\"objects\"] = objects\n",
    "print(c_counter, \"-\", counter, \"=\", c_counter - counter)\n",
    "# with open(\"./sample/rest_entities.json\", \"w\", encoding=\"utf8\") as writer:\n",
    "#     json.dump(rest_list, writer, indent=4, ensure_ascii=False)"
   ]
  },
  {
   "cell_type": "markdown",
   "metadata": {},
   "source": [
    "坐标化 筛除没有坐标的"
   ]
  },
  {
   "cell_type": "code",
   "execution_count": 6,
   "metadata": {},
   "outputs": [
    {
     "data": {
      "application/vnd.jupyter.widget-view+json": {
       "model_id": "8b98235604e04dfe94321eac7dcdf5e4",
       "version_major": 2,
       "version_minor": 0
      },
      "text/plain": [
       "  0%|          | 0/6549 [00:00<?, ?it/s]"
      ]
     },
     "metadata": {},
     "output_type": "display_data"
    },
    {
     "name": "stdout",
     "output_type": "stream",
     "text": [
      "11623 - 62 = 11561\n"
     ]
    }
   ],
   "source": [
    "coord_pattern = r\"\\[(\\d+)[^\\d]+(\\d+)[^\\d]+(\\d+)[^\\d]+(\\d+)\\]\"\n",
    "\n",
    "counter = 0; c_counter = 0\n",
    "for i, e in enumerate(tqdm(merge_list)):\n",
    "    objects = e[\"objects\"]\n",
    "    rms = list()\n",
    "    for k in list(objects.keys()):\n",
    "        ans = re.findall(coord_pattern, objects[k])\n",
    "        if len(ans) == 0: rms.append(k); counter += 1\n",
    "        else: objects[k] = [int(e) for e in ans[0]]; c_counter += 1  \n",
    "    for rm in rms: del objects[rm]\n",
    "    merge_list[i][\"objects\"] = objects\n",
    "\n",
    "print(c_counter + counter, \"-\", counter, \"=\", c_counter)"
   ]
  },
  {
   "cell_type": "markdown",
   "metadata": {},
   "source": [
    "不能在问题中匹配的 用 spacy 处理匹配至相似度最高的等长 token 串"
   ]
  },
  {
   "cell_type": "code",
   "execution_count": 7,
   "metadata": {},
   "outputs": [
    {
     "data": {
      "application/vnd.jupyter.widget-view+json": {
       "model_id": "46cab081ad4148f9bf95fca0cf31c013",
       "version_major": 2,
       "version_minor": 0
      },
      "text/plain": [
       "  0%|          | 0/6549 [00:00<?, ?it/s]"
      ]
     },
     "metadata": {},
     "output_type": "display_data"
    },
    {
     "name": "stderr",
     "output_type": "stream",
     "text": [
      "/tmp/ipykernel_3222415/3405980412.py:17: UserWarning: [W008] Evaluating Doc.similarity based on empty vectors.\n",
      "  similarity = window.similarity(search)\n"
     ]
    },
    {
     "name": "stdout",
     "output_type": "stream",
     "text": [
      "1145 / 11561\n"
     ]
    }
   ],
   "source": [
    "import spacy\n",
    "\n",
    "nlp = spacy.load(\"zh_core_web_md\")\n",
    "\n",
    "nf_counter = 0; counter = 0\n",
    "for i, e in enumerate(tqdm(merge_list)):\n",
    "    rp_dict = dict()\n",
    "    for k in e[\"objects\"]:\n",
    "        counter += 1\n",
    "        if k in e[\"question\"]: continue\n",
    "        nf_counter += 1\n",
    "        search = nlp(k)\n",
    "        sentence = nlp(e[\"question\"])\n",
    "        highest = -99; record = \"\"\n",
    "        for j in range(len(sentence) - len(search)):\n",
    "            window = nlp(\"\".join([e.text for e in sentence[j:j+len(search)]]))\n",
    "            similarity = window.similarity(search)\n",
    "            if similarity > highest: highest = similarity; record = window.text\n",
    "        rp_dict[k] = record\n",
    "    for k, v in rp_dict.items():\n",
    "        merge_list[i][\"objects\"][v] = merge_list[i][\"objects\"][k]\n",
    "        del merge_list[i][\"objects\"][k]\n",
    "print(nf_counter, \"/\", counter)"
   ]
  },
  {
   "cell_type": "code",
   "execution_count": 8,
   "metadata": {},
   "outputs": [
    {
     "name": "stdout",
     "output_type": "stream",
     "text": [
      "pak: {\n",
      "    \"image_name\": \"12_0_101_0000001_240107.jpg\",\n",
      "    \"question\": \"穿白色衣服的人在穿棕色衣服的人的哪个方向？请从前方、后方、左方、右方、上方、下方、左前方、右前方、左后方、右后方中选择\",\n",
      "    \"objects\": {\n",
      "        \"穿白色衣服的人\": [\n",
      "            443,\n",
      "            926,\n",
      "            485,\n",
      "            1037\n",
      "        ],\n",
      "        \"穿棕色衣服的人\": [\n",
      "            534,\n",
      "            926,\n",
      "            578,\n",
      "            1018\n",
      "        ]\n",
      "    }\n",
      "}\n"
     ]
    }
   ],
   "source": [
    "from Portable import console as cs\n",
    "cs.pakprint(merge_list[0])"
   ]
  },
  {
   "cell_type": "code",
   "execution_count": 9,
   "metadata": {},
   "outputs": [],
   "source": [
    "with open(output, \"w\", encoding=\"utf8\") as writer:\n",
    "    json.dump(merge_list, writer, indent=4, ensure_ascii=False)"
   ]
  }
 ],
 "metadata": {
  "kernelspec": {
   "display_name": "qwen2",
   "language": "python",
   "name": "python3"
  },
  "language_info": {
   "codemirror_mode": {
    "name": "ipython",
    "version": 3
   },
   "file_extension": ".py",
   "mimetype": "text/x-python",
   "name": "python",
   "nbconvert_exporter": "python",
   "pygments_lexer": "ipython3",
   "version": "3.11.11"
  }
 },
 "nbformat": 4,
 "nbformat_minor": 2
}
