{
 "cells": [
  {
   "cell_type": "code",
   "execution_count": 1,
   "metadata": {},
   "outputs": [],
   "source": [
    "from Portable import osp\n",
    "\n",
    "import random as rand\n",
    "import json\n",
    "import re"
   ]
  },
  {
   "cell_type": "code",
   "execution_count": 2,
   "metadata": {},
   "outputs": [],
   "source": [
    "image_base = r\"../../sln/VQA_SA/images\"\n",
    "entities_dir = r\"./entities\"\n",
    "jsons = osp.als(entities_dir)"
   ]
  },
  {
   "cell_type": "code",
   "execution_count": 78,
   "metadata": {},
   "outputs": [
    {
     "name": "stdout",
     "output_type": "stream",
     "text": [
      "24_2_106_0000032_240914.jpg: {\n",
      "    \"相框\": \"```json\\n[\\n\\t{\\\"bbox_2d\\\": [416, 601, 465, 657], \\\"label\\\": \\\"相框\\\"},\\n\\t{\\\"bbox_2d\\\": [348, 604, 395, 657], \\\"label\\\": \\\"相框\\\"},\\n\\t{\\\"bbox_2d\\\": [292, 609, 340, 657], \\\"label\\\": \\\"相框\\\"}\\n]\\n```\",\n",
      "    \"你\": \"```json\\n[\\n\\t{\\\"bbox_2d\\\": [0, 635, 341, 950], \\\"label\\\": \\\"你\\\"}\\n]\\n```\"\n",
      "}\n"
     ]
    }
   ],
   "source": [
    "chosen = rand.choice(jsons)\n",
    "image_name = osp.refmt(osp.op_base(chosen), \".jpg\")\n",
    "with open(chosen, \"r\", encoding=\"utf8\") as reader:\n",
    "    data = json.load(reader)\n",
    "chosen:dict = rand.choice(data)\n",
    "from Portable import console as cs\n",
    "cs.pakprint(chosen, image_name)"
   ]
  },
  {
   "cell_type": "code",
   "execution_count": 79,
   "metadata": {},
   "outputs": [],
   "source": [
    "coord_pattern = r\"\\[(\\d+)[^\\d]+(\\d+)[^\\d]+(\\d+)[^\\d]+(\\d+)\\]\"\n",
    "boxes = list()\n",
    "\n",
    "for k, v in chosen.items():\n",
    "    coords = re.findall(coord_pattern, v)\n",
    "    if not coords: boxes.append([k, [0, 0, 1, 1]])\n",
    "    boxes.append([k, [int(e) for e in coords[0]]])"
   ]
  },
  {
   "cell_type": "code",
   "execution_count": null,
   "metadata": {},
   "outputs": [],
   "source": [
    "image_path = osp.j(image_base, image_name)\n",
    "\n",
    "from PIL import Image, ImageDraw, ImageFont\n",
    "import numpy as np\n",
    "import cv2 as cv\n",
    "\n",
    "font_path = r\"/usr/share/fonts/opentype/noto/NotoSerifCJK-Bold.ttc\"\n",
    "\n",
    "image = Image.open(image_path).convert(\"RGB\")\n",
    "draw = ImageDraw.Draw(image)\n",
    "font = ImageFont.truetype(font_path, 12, encoding=\"utf-8\")\n",
    "for box in boxes: draw.text(box[1][:2], box[0], (255, 0, 0), font=font)\n",
    "\n",
    "image = np.array(image)\n",
    "for box in boxes: image = cv.rectangle(image, box[1][:2], box[1][2:], (255, 0, 0), 1)\n",
    "\n",
    "from Portable import ipy\n",
    "ipy.display_np_images(image)"
   ]
  }
 ],
 "metadata": {
  "kernelspec": {
   "display_name": "qwen2",
   "language": "python",
   "name": "python3"
  },
  "language_info": {
   "codemirror_mode": {
    "name": "ipython",
    "version": 3
   },
   "file_extension": ".py",
   "mimetype": "text/x-python",
   "name": "python",
   "nbconvert_exporter": "python",
   "pygments_lexer": "ipython3",
   "version": "3.11.11"
  }
 },
 "nbformat": 4,
 "nbformat_minor": 2
}
