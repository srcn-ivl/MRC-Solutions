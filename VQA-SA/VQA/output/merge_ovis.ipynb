{
 "cells": [
  {
   "cell_type": "code",
   "execution_count": 1,
   "metadata": {},
   "outputs": [],
   "source": [
    "from typing import Dict, List\n",
    "from Portable import osp\n",
    "\n",
    "import json"
   ]
  },
  {
   "cell_type": "code",
   "execution_count": 2,
   "metadata": {},
   "outputs": [],
   "source": [
    "source = r\"./ovis2_splits\"\n",
    "output = r\"./Ovis_eng.json\"\n",
    "refer = r\"../../sln/VQA_SA/VQA-SA-question-ENG.json\""
   ]
  },
  {
   "cell_type": "code",
   "execution_count": 3,
   "metadata": {},
   "outputs": [],
   "source": [
    "with open(refer, \"r\", encoding=\"utf8\") as reader:\n",
    "    refer_contents = json.load(reader)\n",
    "refer_dict:Dict[str, list] = dict()\n",
    "refer_key_list:List[str] = list()\n",
    "for ref in refer_contents:\n",
    "    if ref[\"image_path\"] not in refer_dict:\n",
    "        refer_dict[ref[\"image_path\"]] = list()\n",
    "        refer_key_list.append(ref[\"image_path\"])\n",
    "    refer_dict[ref[\"image_path\"]].append(ref[\"question\"])\n",
    "\n",
    "dump_contents:List[Dict[str, str]] = list()\n",
    "skips = list()\n",
    "for ref_key in refer_key_list:\n",
    "    res_path = osp.refmt(ref_key.replace(\"images\\\\\", source + \"/\"), \".json\")\n",
    "    if not osp.exists(res_path): skips.append(res_path); continue\n",
    "    with open(res_path, \"r\", encoding=\"utf8\") as reader:\n",
    "        sp_ans = json.load(reader)\n",
    "    dump_contents.extend(sp_ans)\n",
    "with open(output, \"w\", encoding=\"utf8\") as writer:\n",
    "    json.dump(dump_contents, writer, indent=4, ensure_ascii=False)"
   ]
  },
  {
   "cell_type": "code",
   "execution_count": 4,
   "metadata": {},
   "outputs": [
    {
     "name": "stdout",
     "output_type": "stream",
     "text": [
      "[]\n"
     ]
    }
   ],
   "source": [
    "print(skips)"
   ]
  }
 ],
 "metadata": {
  "kernelspec": {
   "display_name": "qwen2",
   "language": "python",
   "name": "python3"
  },
  "language_info": {
   "codemirror_mode": {
    "name": "ipython",
    "version": 3
   },
   "file_extension": ".py",
   "mimetype": "text/x-python",
   "name": "python",
   "nbconvert_exporter": "python",
   "pygments_lexer": "ipython3",
   "version": "3.11.11"
  }
 },
 "nbformat": 4,
 "nbformat_minor": 2
}
