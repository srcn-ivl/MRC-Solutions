{
 "cells": [
  {
   "cell_type": "code",
   "execution_count": 1,
   "metadata": {},
   "outputs": [],
   "source": [
    "import json"
   ]
  },
  {
   "cell_type": "code",
   "execution_count": 2,
   "metadata": {},
   "outputs": [],
   "source": [
    "base_json = r\"../sln/VQA_SA/0804_VQASA_OV_ZH.json\"\n",
    "patch_json = r\"./vqasa/ovis2_mr_patches/mr_patch.json\""
   ]
  },
  {
   "cell_type": "code",
   "execution_count": 3,
   "metadata": {},
   "outputs": [],
   "source": [
    "with open(base_json, \"r\", encoding=\"utf8\") as base_reader,\\\n",
    "    open(patch_json, \"r\", encoding=\"utf8\") as patch_reader:\n",
    "    base_data = json.load(base_reader)\n",
    "    patch_data = json.load(patch_reader)\n",
    "\n",
    "patch_dict = dict()\n",
    "for pd in patch_data: patch_dict[(pd[\"image_path\"], pd[\"question\"])] = pd[\"result\"]"
   ]
  },
  {
   "cell_type": "code",
   "execution_count": 4,
   "metadata": {},
   "outputs": [],
   "source": [
    "import random as rand\n",
    "for bd in base_data:\n",
    "    if (bd[\"image_path\"], bd[\"question\"]) not in patch_dict: continue\n",
    "    if rand.random() < 0.5: continue\n",
    "    bd[\"result\"] = patch_dict[(bd[\"image_path\"], bd[\"question\"])]"
   ]
  },
  {
   "cell_type": "code",
   "execution_count": 5,
   "metadata": {},
   "outputs": [],
   "source": [
    "output_json = r\"./0805_VQASA_OV_ZH_PPR.json\"\n",
    "with open(output_json, \"w\", encoding=\"utf8\") as writer:\n",
    "    json.dump(base_data, writer, indent=4, ensure_ascii=False)"
   ]
  }
 ],
 "metadata": {
  "kernelspec": {
   "display_name": "qwen2",
   "language": "python",
   "name": "python3"
  },
  "language_info": {
   "codemirror_mode": {
    "name": "ipython",
    "version": 3
   },
   "file_extension": ".py",
   "mimetype": "text/x-python",
   "name": "python",
   "nbconvert_exporter": "python",
   "pygments_lexer": "ipython3",
   "version": "3.11.11"
  }
 },
 "nbformat": 4,
 "nbformat_minor": 2
}
