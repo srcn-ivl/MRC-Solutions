{
 "cells": [
  {
   "cell_type": "code",
   "execution_count": 1,
   "metadata": {},
   "outputs": [],
   "source": [
    "import json\n",
    "import re"
   ]
  },
  {
   "cell_type": "code",
   "execution_count": 2,
   "metadata": {},
   "outputs": [],
   "source": [
    "source_json = r\"./merged_entities.json\"\n",
    "output_json = r\"./spargpt_data.json\""
   ]
  },
  {
   "cell_type": "code",
   "execution_count": 3,
   "metadata": {},
   "outputs": [],
   "source": [
    "with open(source_json, \"r\", encoding=\"utf8\") as reader:\n",
    "    source_data = json.load(reader)"
   ]
  },
  {
   "cell_type": "code",
   "execution_count": 4,
   "metadata": {},
   "outputs": [],
   "source": [
    "out_list = list()\n",
    "for sd in source_data:\n",
    "    regions = list()\n",
    "    question:str = sd[\"question\"]\n",
    "    for i, (k, v) in enumerate(sd[\"objects\"].items()):\n",
    "        new_question = question.replace(k, f\"{k}<region{i}>\", 1)\n",
    "        if new_question == question: continue\n",
    "        question = new_question\n",
    "        points = [float(e) for e in v]\n",
    "        points.insert(2, 2.0)\n",
    "        points.insert(5, 3.0)\n",
    "        regions.append(points)\n",
    "    out_list.append({\n",
    "        \"image_name\": sd[\"image_name\"],\n",
    "        \"question\": question,\n",
    "        \"regions\": regions\n",
    "    })"
   ]
  },
  {
   "cell_type": "code",
   "execution_count": 5,
   "metadata": {},
   "outputs": [],
   "source": [
    "with open(output_json, \"w\", encoding=\"utf8\") as writer:\n",
    "    json.dump(out_list, writer, indent=4, ensure_ascii=False)"
   ]
  }
 ],
 "metadata": {
  "kernelspec": {
   "display_name": "qwen2",
   "language": "python",
   "name": "python3"
  },
  "language_info": {
   "codemirror_mode": {
    "name": "ipython",
    "version": 3
   },
   "file_extension": ".py",
   "mimetype": "text/x-python",
   "name": "python",
   "nbconvert_exporter": "python",
   "pygments_lexer": "ipython3",
   "version": "3.11.11"
  }
 },
 "nbformat": 4,
 "nbformat_minor": 2
}
