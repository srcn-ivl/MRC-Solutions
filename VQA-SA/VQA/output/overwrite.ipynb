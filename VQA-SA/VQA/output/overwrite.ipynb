{
 "cells": [
  {
   "cell_type": "code",
   "execution_count": 1,
   "metadata": {},
   "outputs": [],
   "source": [
    "import json"
   ]
  },
  {
   "cell_type": "code",
   "execution_count": 2,
   "metadata": {},
   "outputs": [],
   "source": [
    "new_json = r\"./0725_VQASA_sp_32_o.json\"\n",
    "base_json = r\"../../sln/0701_VQASA_test.json\"\n",
    "overwrited = r\"./0725_VQASA_sp_32.json\""
   ]
  },
  {
   "cell_type": "code",
   "execution_count": 3,
   "metadata": {},
   "outputs": [],
   "source": [
    "with open(base_json, \"r\", encoding=\"utf8\") as base_reader,\\\n",
    "    open(new_json, \"r\", encoding=\"utf8\") as new_reader:\n",
    "    base_data = json.load(base_reader)\n",
    "    new_data = json.load(new_reader)\n",
    "\n",
    "seri_dict = dict()\n",
    "for i, bd in enumerate(base_data):\n",
    "    image_path = bd[\"image_path\"]\n",
    "    question = bd[\"question\"]\n",
    "    seri_dict[(image_path, question)] = i"
   ]
  },
  {
   "cell_type": "code",
   "execution_count": 4,
   "metadata": {},
   "outputs": [],
   "source": [
    "for nd in new_data:\n",
    "    image_path = nd[\"image_path\"]\n",
    "    question = nd[\"question\"]\n",
    "    result = nd[\"result\"]\n",
    "    base_data[seri_dict[(image_path, question)]][\"result\"] = result\n",
    "\n",
    "with open(overwrited, \"w\", encoding=\"utf8\") as writer:\n",
    "    json.dump(base_data, writer, indent=4, ensure_ascii=False)"
   ]
  }
 ],
 "metadata": {
  "kernelspec": {
   "display_name": "qwen2",
   "language": "python",
   "name": "python3"
  },
  "language_info": {
   "codemirror_mode": {
    "name": "ipython",
    "version": 3
   },
   "file_extension": ".py",
   "mimetype": "text/x-python",
   "name": "python",
   "nbconvert_exporter": "python",
   "pygments_lexer": "ipython3",
   "version": "3.11.11"
  }
 },
 "nbformat": 4,
 "nbformat_minor": 2
}
